{
 "cells": [
  {
   "cell_type": "markdown",
   "metadata": {},
   "source": [
    "# Tabular Experiments -- Discretisation and Binarisation Purity #\n",
    "\n",
    "The experiments are executed by selecting one of the data sets via uncommenting\n",
    "its name in one of the notebook cells below."
   ]
  },
  {
   "cell_type": "code",
   "execution_count": 1,
   "metadata": {},
   "outputs": [],
   "source": [
    "import matplotlib\n",
    "import matplotlib.pyplot as plt\n",
    "\n",
    "matplotlib.rc('text', usetex=True)\n",
    "plt.style.use('seaborn')\n",
    "\n",
    "%matplotlib inline"
   ]
  },
  {
   "cell_type": "code",
   "execution_count": 2,
   "metadata": {},
   "outputs": [
    {
     "name": "stderr",
     "output_type": "stream",
     "text": [
      "22-May-08 16:06:59 fatf.utils.array.tools INFO     Using numpy's numpy.lib.recfunctions.structured_to_unstructured as fatf.utils.array.tools.structured_to_unstructured and fatf.utils.array.tools.structured_to_unstructured_row.\n"
     ]
    }
   ],
   "source": [
    "import numpy as np\n",
    "import sklearn.datasets as skl_data\n",
    "\n",
    "import helpers"
   ]
  },
  {
   "cell_type": "code",
   "execution_count": 3,
   "metadata": {},
   "outputs": [],
   "source": [
    "data_sets = {\n",
    "    'wine': {\n",
    "        'data': skl_data.load_wine(return_X_y=True)[0],\n",
    "        'labels': skl_data.load_wine(return_X_y=True)[1],\n",
    "        'tree_leaves': 16,\n",
    "        'is_classification': True\n",
    "    },\n",
    "    'breast_cancer': {\n",
    "        'data': skl_data.load_breast_cancer(return_X_y=True)[0],\n",
    "        'labels': skl_data.load_breast_cancer(return_X_y=True)[1],\n",
    "        'tree_leaves': 32,\n",
    "        'is_classification': True\n",
    "    },\n",
    "    'boston': {\n",
    "        'data': skl_data.load_boston(return_X_y=True)[0],\n",
    "        'labels': skl_data.load_boston(return_X_y=True)[1],\n",
    "        'tree_leaves': 16,  # 32 # 16/64\n",
    "        'is_classification': False\n",
    "    },\n",
    "    'diabetes': {\n",
    "        'data': skl_data.load_diabetes(return_X_y=True)[0],\n",
    "        'labels': skl_data.load_diabetes(return_X_y=True)[1],\n",
    "        'tree_leaves': 32,  # 256 # 32/64/128\n",
    "        'is_classification': False\n",
    "    }\n",
    "}"
   ]
  },
  {
   "cell_type": "code",
   "execution_count": 4,
   "metadata": {},
   "outputs": [],
   "source": [
    "data_set = 'wine'\n",
    "# data_set = 'breast_cancer'\n",
    "# data_set = 'boston'\n",
    "# data_set = 'diabetes'"
   ]
  },
  {
   "cell_type": "code",
   "execution_count": 5,
   "metadata": {},
   "outputs": [
    {
     "name": "stdout",
     "output_type": "stream",
     "text": [
      "Global weighted homogeneity of discretisation: 0.0.\n",
      "Unique discrete points count: 178.\n",
      "Local weighted homogeneity of binarisation: 0.0565663550863917 +- 0.04171626963189558.\n",
      "Unique binary points count: 124.25842696629213 +- 13.51281380214379.\n"
     ]
    }
   ],
   "source": [
    "discrete_result, binary_results, n_g, n_l = helpers.get_lime(\n",
    "    data_sets[data_set]['data'],\n",
    "    data_sets[data_set]['labels'],\n",
    "    classification=data_sets[data_set]['is_classification'],\n",
    "    distance_factor=0.6)"
   ]
  },
  {
   "cell_type": "code",
   "execution_count": 6,
   "metadata": {},
   "outputs": [
    {
     "name": "stdout",
     "output_type": "stream",
     "text": [
      "Local: 148; global: 178.\n"
     ]
    }
   ],
   "source": [
    "print(f'Local: {n_l:d}; global: {n_g:d}.')"
   ]
  },
  {
   "cell_type": "code",
   "execution_count": 7,
   "metadata": {},
   "outputs": [],
   "source": [
    "n_g_fn = 4**data_sets[data_set]['data'].shape[1]\n",
    "n_l_fn = 2**data_sets[data_set]['data'].shape[1]"
   ]
  },
  {
   "cell_type": "code",
   "execution_count": 8,
   "metadata": {},
   "outputs": [
    {
     "name": "stdout",
     "output_type": "stream",
     "text": [
      "Global weighted homogeneity of tree-based discretisation (16 leaves): 0.0.\n",
      "Global weighted homogeneity of tree-based discretisation (15 leaves): 0.0.\n",
      "Global weighted homogeneity of tree-based discretisation (14 leaves): 0.0.\n",
      "Global weighted homogeneity of tree-based discretisation (13 leaves): 0.0.\n",
      "Global weighted homogeneity of tree-based discretisation (12 leaves): 0.0.\n",
      "Global weighted homogeneity of tree-based discretisation (11 leaves): 0.011235955056179775.\n",
      "Global weighted homogeneity of tree-based discretisation (10 leaves): 0.011235955056179775.\n",
      "Global weighted homogeneity of tree-based discretisation (9 leaves): 0.015248796147672553.\n",
      "Global weighted homogeneity of tree-based discretisation (8 leaves): 0.01802222809191946.\n",
      "Global weighted homogeneity of tree-based discretisation (7 leaves): 0.02283763740171079.\n",
      "Global weighted homogeneity of tree-based discretisation (6 leaves): 0.033382149069817964.\n",
      "Global weighted homogeneity of tree-based discretisation (5 leaves): 0.35360686817094156.\n",
      "Global weighted homogeneity of tree-based discretisation (4 leaves): 0.36249867195777835.\n",
      "Global weighted homogeneity of tree-based discretisation (3 leaves): 0.36611022894012174.\n",
      "Global weighted homogeneity of tree-based discretisation (2 leaves): 0.4445829302775504.\n"
     ]
    }
   ],
   "source": [
    "tree_global = helpers.get_tree_global(\n",
    "    data_sets[data_set]['data'],\n",
    "    data_sets[data_set]['labels'],\n",
    "    data_sets[data_set]['tree_leaves'],\n",
    "    classification=data_sets[data_set]['is_classification'])"
   ]
  },
  {
   "cell_type": "code",
   "execution_count": 9,
   "metadata": {},
   "outputs": [
    {
     "name": "stdout",
     "output_type": "stream",
     "text": [
      "Local weighted homogeneity of tree-based discretisation (16 leaves): 0.0 +- 0.0.\n",
      "Local weighted homogeneity of tree-based discretisation (15 leaves): 0.0 +- 0.0.\n",
      "Local weighted homogeneity of tree-based discretisation (14 leaves): 0.0 +- 0.0.\n",
      "Local weighted homogeneity of tree-based discretisation (13 leaves): 0.0 +- 0.0.\n",
      "Local weighted homogeneity of tree-based discretisation (12 leaves): 0.0 +- 0.0.\n",
      "Local weighted homogeneity of tree-based discretisation (11 leaves): 0.004445064460295178 +- 0.005521706027519013.\n",
      "Local weighted homogeneity of tree-based discretisation (10 leaves): 0.0044799587306559845 +- 0.0055131243302371305.\n",
      "Local weighted homogeneity of tree-based discretisation (9 leaves): 0.0060674817521899765 +- 0.007480020659562744.\n",
      "Local weighted homogeneity of tree-based discretisation (8 leaves): 0.01049496996401429 +- 0.006322475966467029.\n",
      "Local weighted homogeneity of tree-based discretisation (7 leaves): 0.015711955109948952 +- 0.0063365847937051.\n",
      "Local weighted homogeneity of tree-based discretisation (6 leaves): 0.02332356676630282 +- 0.008979883062007688.\n",
      "Local weighted homogeneity of tree-based discretisation (5 leaves): 0.17775243029833615 +- 0.16986575814791602.\n",
      "Local weighted homogeneity of tree-based discretisation (4 leaves): 0.20851824850592568 +- 0.18254858909103322.\n",
      "Local weighted homogeneity of tree-based discretisation (3 leaves): 0.33722085901807924 +- 0.07560877622227291.\n",
      "Local weighted homogeneity of tree-based discretisation (2 leaves): 0.3931066966485614 +- 0.09365009988579603.\n"
     ]
    }
   ],
   "source": [
    "tree_local = helpers.get_tree_local(\n",
    "    data_sets[data_set]['data'],\n",
    "    data_sets[data_set]['labels'],\n",
    "    data_sets[data_set]['tree_leaves'],\n",
    "    classification=data_sets[data_set]['is_classification'],\n",
    "    distance_factor=0.6)"
   ]
  },
  {
   "cell_type": "code",
   "execution_count": 10,
   "metadata": {},
   "outputs": [
    {
     "data": {
      "image/png": "[encoded data removed]",
      "text/plain": [
       "<Figure size 720x288 with 1 Axes>"
      ]
     },
     "metadata": {},
     "output_type": "display_data"
    }
   ],
   "source": [
    "fig = plt.figure(figsize=(10, 4))  # constrained_layout=True\n",
    "\n",
    "keys = sorted(list(tree_local.keys()))\n",
    "x_local, y_local_mean, y_local_std = [], [], []\n",
    "for key in keys:\n",
    "    x_local.append(key)\n",
    "    y_local_mean.append(np.mean(tree_local[key]))\n",
    "    y_local_std.append(np.std(tree_local[key]))\n",
    "\n",
    "plt.errorbar(x_local, y_local_mean, yerr=y_local_std,\n",
    "             solid_capstyle='projecting', capsize=5, capthick=3,\n",
    "             c='cornflowerblue',\n",
    "             label='Tree Local')\n",
    "\n",
    "keys = sorted(list(tree_global.keys()))\n",
    "key_no = len(keys)\n",
    "x_global, y_global = [], []\n",
    "for key in keys:\n",
    "    x_global.append(key)\n",
    "    y_global.append(tree_global[key])\n",
    "plt.scatter(x_global, y_global,\n",
    "            marker='*', s=300, alpha=0.3, c='b',  # 'darkseagreen' # '-'\n",
    "            label='Tree Global')\n",
    "\n",
    "#############################################\n",
    "\n",
    "mm, ms = np.mean(binary_results), np.std(binary_results)\n",
    "pp = plt.plot(keys, key_no * [mm],  # LIME MSE\n",
    "              c='darkseagreen',\n",
    "              label=f'Quartile Local ({n_l} of {helpers.millify(n_l_fn)})')\n",
    "lime_c = pp[-1].get_color()\n",
    "plt.fill_between(keys, key_no * [mm - ms], key_no * [mm + ms],\n",
    "                 alpha=0.3, color=lime_c)  # y + error\n",
    "\n",
    "plt.plot(keys, key_no * [discrete_result],\n",
    "         alpha=0.9, c='g', linestyle=':',\n",
    "         label=f'Quartile Global ({n_g} of {helpers.millify(n_g_fn)})')\n",
    "\n",
    "# Gini purity\n",
    "plt.ylabel('Gini Impurity' if data_sets[data_set]['is_classification'] else\n",
    "           'Mean Squared Error')\n",
    "# Tree leaves\n",
    "plt.xlabel('Number of Tree Leaves')\n",
    "\n",
    "plt.xticks(np.arange(\n",
    "    int(data_sets[data_set]['tree_leaves'] / 8),\n",
    "    data_sets[data_set]['tree_leaves'] + 1,\n",
    "    step=int(data_sets[data_set]['tree_leaves'] / 16)\n",
    "))\n",
    "\n",
    "plt.legend(loc='upper right')  # 'top right'\n",
    "\n",
    "# Sort both labels and handles by labels\n",
    "ax = fig.get_axes()[0]\n",
    "handles, labels = ax.get_legend_handles_labels()\n",
    "labels, handles = zip(*sorted(zip(labels, handles), key=lambda t: t[0]))\n",
    "plt.legend(handles, labels)\n",
    "\n",
    "plt.tight_layout()\n",
    "\n",
    "plt.savefig(f'_figures/intrep_tab_{data_set}.pdf',\n",
    "            transparent=False, dpi=300, bbox_inches='tight')"
   ]
  },
  {
   "cell_type": "code",
   "execution_count": null,
   "metadata": {},
   "outputs": [],
   "source": []
  }
 ],
 "metadata": {
  "interpreter": {
   "hash": "d659ff974d20c5603cf488aa597e32d11adce36f68fc66d2751ab326db2e2c0a"
  },
  "kernelspec": {
   "display_name": "Python 3.7.12 64-bit ('intrep')",
   "language": "python",
   "name": "python3"
  },
  "language_info": {
   "codemirror_mode": {
    "name": "ipython",
    "version": 3
   },
   "file_extension": ".py",
   "mimetype": "text/x-python",
   "name": "python",
   "nbconvert_exporter": "python",
   "pygments_lexer": "ipython3",
   "version": "3.7.12"
  }
 },
 "nbformat": 4,
 "nbformat_minor": 4
}
