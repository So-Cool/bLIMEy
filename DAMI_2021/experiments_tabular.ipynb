{
 "cells": [
  {
   "cell_type": "markdown",
   "metadata": {},
   "source": [
    "# Tabular Experiments -- Discretisation and Binarisation Purity #\n",
    "\n",
    "The experiments are executed by selecting one of the data sets via uncommenting\n",
    "its name in one of the notebook cells below."
   ]
  },
  {
   "cell_type": "code",
   "execution_count": 1,
   "metadata": {},
   "outputs": [],
   "source": [
    "! mkdir -p _figures\n",
    "\n",
    "import matplotlib\n",
    "import matplotlib.pyplot as plt\n",
    "\n",
    "matplotlib.rc('text', usetex=True)\n",
    "plt.style.use('seaborn')\n",
    "\n",
    "%matplotlib inline"
   ]
  },
  {
   "cell_type": "code",
   "execution_count": 2,
   "metadata": {},
   "outputs": [
    {
     "name": "stderr",
     "output_type": "stream",
     "text": [
      "22-Jun-03 12:49:20 fatf.utils.array.tools INFO     Using numpy's numpy.lib.recfunctions.structured_to_unstructured as fatf.utils.array.tools.structured_to_unstructured and fatf.utils.array.tools.structured_to_unstructured_row.\n"
     ]
    }
   ],
   "source": [
    "import numpy as np\n",
    "import sklearn.datasets as skl_data\n",
    "\n",
    "import helpers"
   ]
  },
  {
   "cell_type": "code",
   "execution_count": 3,
   "metadata": {},
   "outputs": [],
   "source": [
    "data_sets = {\n",
    "    'wine': {\n",
    "        'data': skl_data.load_wine(return_X_y=True)[0],\n",
    "        'labels': skl_data.load_wine(return_X_y=True)[1],\n",
    "        'tree_leaves': 16,\n",
    "        'is_classification': True\n",
    "    },\n",
    "    'breast_cancer': {\n",
    "        'data': skl_data.load_breast_cancer(return_X_y=True)[0],\n",
    "        'labels': skl_data.load_breast_cancer(return_X_y=True)[1],\n",
    "        'tree_leaves': 32,\n",
    "        'is_classification': True\n",
    "    },\n",
    "    'boston': {\n",
    "        'data': skl_data.load_boston(return_X_y=True)[0],\n",
    "        'labels': skl_data.load_boston(return_X_y=True)[1],\n",
    "        'tree_leaves': 16,  # 32 # 16/64\n",
    "        'is_classification': False\n",
    "    },\n",
    "    'diabetes': {\n",
    "        'data': skl_data.load_diabetes(return_X_y=True)[0],\n",
    "        'labels': skl_data.load_diabetes(return_X_y=True)[1],\n",
    "        'tree_leaves': 32,  # 256 # 32/64/128\n",
    "        'is_classification': False\n",
    "    }\n",
    "}"
   ]
  },
  {
   "cell_type": "code",
   "execution_count": 4,
   "metadata": {},
   "outputs": [],
   "source": [
    "distance_factor = 0.3\n",
    "data_set_idx = 0\n",
    "\n",
    "data_set = [\n",
    "    'wine',\n",
    "    'breast_cancer',\n",
    "    'boston',\n",
    "    'diabetes'\n",
    "][data_set_idx]"
   ]
  },
  {
   "cell_type": "code",
   "execution_count": 5,
   "metadata": {},
   "outputs": [
    {
     "name": "stdout",
     "output_type": "stream",
     "text": [
      "Weighted homogeneity of global quartile discretisation: 0.0.\n",
      "Unique discrete points count: 178.\n",
      "\n",
      "\n",
      "Global weighted homogeneity of binarisation: 0.02575381694658207 +- 0.028929805738776494.\n",
      "Unique binary points count: 96.12359550561797 +- 22.849935571280398.\n",
      "\n",
      "\n",
      "~+~+~+~+~+~+~+~+~+~+~+~+~+~+~+~+~+~+~+~+~+~+~+~+~+~+~+~+~+~+~+~+~+~+~+~+~+~+~+~+\n",
      "\n",
      "\n",
      "Weighted homogeneity of local quartile discretisations: 0.0 +- 0.0.\n",
      "Unique discrete points count: 117.06741573033707 +- 31.977097757019784.\n",
      "\n",
      "\n",
      "Local weighted homogeneity of binarisation: 0.03376988573614901 +- 0.027783311464847273.\n",
      "Unique binary points count: 93.08426966292134 +- 22.854416625634276.\n"
     ]
    }
   ],
   "source": [
    "discrete_result, global_binary_results, \\\n",
    "local_discrete_result, local_binary_results, \\\n",
    "n_d_g, n_b_g, n_d_l, n_b_l = helpers.get_lime(\n",
    "    data_sets[data_set]['data'],\n",
    "    data_sets[data_set]['labels'],\n",
    "    classification=data_sets[data_set]['is_classification'],\n",
    "    distance_factor=distance_factor)"
   ]
  },
  {
   "cell_type": "code",
   "execution_count": 6,
   "metadata": {},
   "outputs": [
    {
     "name": "stdout",
     "output_type": "stream",
     "text": [
      "global discretisation: 178\n",
      "global binarisation: 127\n",
      "local discretisation: 152\n",
      "local binarisation: 127\n",
      "\n"
     ]
    }
   ],
   "source": [
    "print(f'global discretisation: {n_d_g:d}\\n'\n",
    "      f'global binarisation: {n_b_g:d}\\n'\n",
    "      f'local discretisation: {n_d_l:d}\\n'\n",
    "      f'local binarisation: {n_b_l:d}\\n')"
   ]
  },
  {
   "cell_type": "code",
   "execution_count": 7,
   "metadata": {},
   "outputs": [],
   "source": [
    "n_disc_fn = 4**data_sets[data_set]['data'].shape[1]\n",
    "n_bin_fn = 2**data_sets[data_set]['data'].shape[1]"
   ]
  },
  {
   "cell_type": "code",
   "execution_count": 8,
   "metadata": {},
   "outputs": [
    {
     "name": "stdout",
     "output_type": "stream",
     "text": [
      "Global weighted homogeneity of tree-based discretisation (16 leaves): 0.0.\n",
      "Global weighted homogeneity of tree-based discretisation (15 leaves): 0.0.\n",
      "Global weighted homogeneity of tree-based discretisation (14 leaves): 0.0.\n",
      "Global weighted homogeneity of tree-based discretisation (13 leaves): 0.0.\n",
      "Global weighted homogeneity of tree-based discretisation (12 leaves): 0.0.\n",
      "Global weighted homogeneity of tree-based discretisation (11 leaves): 0.011235955056179775.\n",
      "Global weighted homogeneity of tree-based discretisation (10 leaves): 0.011235955056179775.\n",
      "Global weighted homogeneity of tree-based discretisation (9 leaves): 0.015248796147672553.\n",
      "Global weighted homogeneity of tree-based discretisation (8 leaves): 0.01802222809191946.\n",
      "Global weighted homogeneity of tree-based discretisation (7 leaves): 0.02283763740171079.\n",
      "Global weighted homogeneity of tree-based discretisation (6 leaves): 0.033382149069817964.\n",
      "Global weighted homogeneity of tree-based discretisation (5 leaves): 0.35360686817094156.\n",
      "Global weighted homogeneity of tree-based discretisation (4 leaves): 0.36249867195777835.\n",
      "Global weighted homogeneity of tree-based discretisation (3 leaves): 0.36611022894012174.\n",
      "Global weighted homogeneity of tree-based discretisation (2 leaves): 0.4445829302775504.\n"
     ]
    }
   ],
   "source": [
    "tree_global = helpers.get_tree_global(\n",
    "    data_sets[data_set]['data'],\n",
    "    data_sets[data_set]['labels'],\n",
    "    data_sets[data_set]['tree_leaves'],\n",
    "    classification=data_sets[data_set]['is_classification'])"
   ]
  },
  {
   "cell_type": "code",
   "execution_count": 9,
   "metadata": {},
   "outputs": [
    {
     "name": "stdout",
     "output_type": "stream",
     "text": [
      "Local weighted homogeneity of tree-based discretisation (16 leaves): 0.0 +- 0.0.\n",
      "Local weighted homogeneity of tree-based discretisation (15 leaves): 0.0 +- 0.0.\n",
      "Local weighted homogeneity of tree-based discretisation (14 leaves): 0.0 +- 0.0.\n",
      "Local weighted homogeneity of tree-based discretisation (13 leaves): 0.0 +- 0.0.\n",
      "Local weighted homogeneity of tree-based discretisation (12 leaves): 0.0 +- 0.0.\n",
      "Local weighted homogeneity of tree-based discretisation (11 leaves): 0.0 +- 0.0.\n",
      "Local weighted homogeneity of tree-based discretisation (10 leaves): 3.770454716838851e-05 +- 0.0005016263741667322.\n",
      "Local weighted homogeneity of tree-based discretisation (9 leaves): 0.001370400671899986 +- 0.005388266143382816.\n",
      "Local weighted homogeneity of tree-based discretisation (8 leaves): 0.006161503788244305 +- 0.023843622763960504.\n",
      "Local weighted homogeneity of tree-based discretisation (7 leaves): 0.018498180532214303 +- 0.05333756907788222.\n",
      "Local weighted homogeneity of tree-based discretisation (6 leaves): 0.02739328391609972 +- 0.06689065816523357.\n",
      "Local weighted homogeneity of tree-based discretisation (5 leaves): 0.04428653900646043 +- 0.08854645606910307.\n",
      "Local weighted homogeneity of tree-based discretisation (4 leaves): 0.12720952370811625 +- 0.1967982654071369.\n",
      "Local weighted homogeneity of tree-based discretisation (3 leaves): 0.2023132467844591 +- 0.18775753083242103.\n",
      "Local weighted homogeneity of tree-based discretisation (2 leaves): 0.2981007638021055 +- 0.25450167045942373.\n"
     ]
    }
   ],
   "source": [
    "tree_local = helpers.get_tree_local(\n",
    "    data_sets[data_set]['data'],\n",
    "    data_sets[data_set]['labels'],\n",
    "    data_sets[data_set]['tree_leaves'],\n",
    "    classification=data_sets[data_set]['is_classification'],\n",
    "    distance_factor=distance_factor)"
   ]
  },
  {
   "cell_type": "code",
   "execution_count": 10,
   "metadata": {},
   "outputs": [
    {
     "data": {
      "image/png": "[encoded data removed]",
      "text/plain": [
       "<Figure size 720x288 with 1 Axes>"
      ]
     },
     "metadata": {},
     "output_type": "display_data"
    }
   ],
   "source": [
    "# NBVAL_IGNORE_OUTPUT\n",
    "fig = plt.figure(figsize=(10, 4))  # constrained_layout=True\n",
    "\n",
    "keys = sorted(list(tree_local.keys()))\n",
    "x_local, y_local_mean, y_local_std = [], [], []\n",
    "for key in keys:\n",
    "    x_local.append(key)\n",
    "    y_local_mean.append(np.mean(tree_local[key]))\n",
    "    y_local_std.append(np.std(tree_local[key]))\n",
    "\n",
    "plt.errorbar(x_local, y_local_mean, yerr=y_local_std,\n",
    "             solid_capstyle='projecting', capsize=5, capthick=3,\n",
    "             c='cornflowerblue',\n",
    "             label='Tree Local')\n",
    "\n",
    "keys = sorted(list(tree_global.keys()))\n",
    "key_no = len(keys)\n",
    "x_global, y_global = [], []\n",
    "for key in keys:\n",
    "    x_global.append(key)\n",
    "    y_global.append(tree_global[key])\n",
    "plt.scatter(x_global, y_global,\n",
    "            marker='*', s=300, alpha=0.3, c='b',  # 'darkseagreen' # '-'\n",
    "            label='Tree Global')\n",
    "\n",
    "#############################################\n",
    "\n",
    "mm, ms = np.mean(global_binary_results), np.std(global_binary_results)\n",
    "pp = plt.plot(keys, key_no * [mm],  # LIME MSE\n",
    "              c='darkseagreen',\n",
    "              label=f'Global Quartile Binarisation ({n_b_g} of {helpers.millify(n_bin_fn)})')\n",
    "lime_c = pp[-1].get_color()\n",
    "plt.fill_between(keys, key_no * [mm - ms], key_no * [mm + ms],\n",
    "                 alpha=0.3, color=lime_c)  # y + error\n",
    "\n",
    "plt.plot(keys, key_no * [discrete_result],\n",
    "         alpha=0.5, c='g', linestyle=':',\n",
    "         label=f'Global Quartile Discretisation ({n_d_g} of {helpers.millify(n_disc_fn)})')\n",
    "\n",
    "mm, ms = np.mean(local_binary_results), np.std(local_binary_results)\n",
    "pp = plt.plot(keys, key_no * [mm],  # LIME MSE\n",
    "              c='plum',\n",
    "              label=f'Local Quartile Binarisation ({n_b_l} of {helpers.millify(n_bin_fn)})')\n",
    "lime_c = pp[-1].get_color()\n",
    "plt.fill_between(keys, key_no * [mm - ms], key_no * [mm + ms],\n",
    "                 alpha=0.3, color=lime_c)  # y + error\n",
    "\n",
    "mm, ms = np.mean(local_discrete_result), np.std(local_discrete_result)\n",
    "pp = plt.plot(keys, key_no * [mm],  # LIME MSE\n",
    "              alpha=0.5, c='purple', linestyle='--',\n",
    "              label=f'Local Quartile Discretisation ({n_d_l} of {helpers.millify(n_disc_fn)})')\n",
    "lime_c = pp[-1].get_color()\n",
    "plt.fill_between(keys, key_no * [mm - ms], key_no * [mm + ms],\n",
    "                 alpha=0.3, color=lime_c)  # y + error\n",
    "\n",
    "# Gini purity\n",
    "plt.ylabel('Gini Impurity' if data_sets[data_set]['is_classification'] else\n",
    "           'Mean Squared Error')\n",
    "# Tree leaves\n",
    "plt.xlabel('Number of Tree Leaves')\n",
    "\n",
    "plt.xticks(np.arange(\n",
    "    int(data_sets[data_set]['tree_leaves'] / 8),\n",
    "    data_sets[data_set]['tree_leaves'] + 1,\n",
    "    step=int(data_sets[data_set]['tree_leaves'] / 16)\n",
    "))\n",
    "\n",
    "plt.legend(loc='upper right')  # 'top right'\n",
    "\n",
    "# Sort both labels and handles by labels\n",
    "ax = fig.get_axes()[0]\n",
    "handles, labels = ax.get_legend_handles_labels()\n",
    "labels, handles = zip(*sorted(zip(labels, handles), key=lambda t: t[0]))\n",
    "plt.legend(handles, labels)\n",
    "\n",
    "plt.tight_layout()\n",
    "\n",
    "plt.savefig(f'_figures/intrep_tab_{data_set}_{distance_factor:1.1f}.pdf',\n",
    "            transparent=False, dpi=300, bbox_inches='tight')"
   ]
  },
  {
   "cell_type": "code",
   "execution_count": null,
   "metadata": {},
   "outputs": [],
   "source": []
  }
 ],
 "metadata": {
  "interpreter": {
   "hash": "d659ff974d20c5603cf488aa597e32d11adce36f68fc66d2751ab326db2e2c0a"
  },
  "kernelspec": {
   "display_name": "Python 3.7.12 64-bit ('intrep')",
   "language": "python",
   "name": "python3"
  },
  "language_info": {
   "codemirror_mode": {
    "name": "ipython",
    "version": 3
   },
   "file_extension": ".py",
   "mimetype": "text/x-python",
   "name": "python",
   "nbconvert_exporter": "python",
   "pygments_lexer": "ipython3",
   "version": "3.7.12"
  }
 },
 "nbformat": 4,
 "nbformat_minor": 4
}
