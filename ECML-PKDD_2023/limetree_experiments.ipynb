{
 "cells": [
  {
   "cell_type": "markdown",
   "metadata": {},
   "source": [
    "# LIMEtree experiments"
   ]
  },
  {
   "cell_type": "code",
   "execution_count": 1,
   "metadata": {},
   "outputs": [
    {
     "name": "stderr",
     "output_type": "stream",
     "text": [
      "22-Sep-05 15:03:43 fatf.utils.array.tools INFO     Using numpy's numpy.lib.recfunctions.structured_to_unstructured as fatf.utils.array.tools.structured_to_unstructured and fatf.utils.array.tools.structured_to_unstructured_row.\n"
     ]
    }
   ],
   "source": [
    "import logging\n",
    "import pickle\n",
    "\n",
    "import numpy as np\n",
    "import scripts.image_classifier as imgclf\n",
    "\n",
    "from scripts.limetree import (\n",
    "    logger,\n",
    "    explain_image,\n",
    "    compute_loss, process_loss, summarise_loss_lime, summarise_loss_limet,\n",
    "    plot_loss_summary)"
   ]
  },
  {
   "cell_type": "code",
   "execution_count": 2,
   "metadata": {},
   "outputs": [],
   "source": [
    "# logging.basicConfig(level=logging.DEBUG)\n",
    "logger.setLevel(logging.DEBUG)\n",
    "\n",
    "%matplotlib inline"
   ]
  },
  {
   "cell_type": "code",
   "execution_count": 3,
   "metadata": {},
   "outputs": [],
   "source": [
    "clf = imgclf.ImageClassifier(use_gpu=False)\n",
    "img_path = './img/dog_ball.jpg'"
   ]
  },
  {
   "cell_type": "markdown",
   "metadata": {},
   "source": [
    "## Test Processing Images"
   ]
  },
  {
   "cell_type": "code",
   "execution_count": 4,
   "metadata": {},
   "outputs": [
    {
     "name": "stderr",
     "output_type": "stream",
     "text": [
      "22-Sep-05 15:03:46 scripts.limetree DEBUG    Image: ./img/dog_ball.jpg\n",
      "22-Sep-05 15:03:46 scripts.limetree DEBUG    Image: ./img/dog_ball.jpg\n",
      "22-Sep-05 15:03:46 scripts.limetree DEBUG    Segmenter in use: slic\n",
      "22-Sep-05 15:03:46 scripts.limetree DEBUG    Segmenter in use: slic\n",
      "/python/python3.7/site-packages/torchvision/transforms/functional.py:114: UserWarning: The given NumPy array is not writeable, and PyTorch does not support non-writeable tensors. This means you can write to the underlying (supposedly non-writeable) NumPy array using the tensor. You may want to copy the array to protect its data or make it writeable before converting it to a tensor. This type of warning will be suppressed for the rest of this program. (Triggered internally at  /pytorch/torch/csrc/utils/tensor_numpy.cpp:143.)\n",
      "  img = torch.from_numpy(pic.transpose((2, 0, 1))).contiguous()\n",
      "22-Sep-05 15:03:46 scripts.limetree DEBUG    Top n classes: 3\n",
      "22-Sep-05 15:03:46 scripts.limetree DEBUG    Top n classes: 3\n",
      "22-Sep-05 15:03:46 fatf         INFO     Seeding RNGs using the input parameter.\n",
      "22-Sep-05 15:03:46 fatf         INFO     Seeding RNGs with 42.\n",
      "22-Sep-05 15:03:47 scripts.limetree DEBUG    Segments number: 4\n",
      "22-Sep-05 15:03:47 scripts.limetree DEBUG    Segments number: 4\n",
      "22-Sep-05 15:03:47 scripts.limetree DEBUG    Sampled data shape: (16, 4)\n",
      "22-Sep-05 15:03:47 scripts.limetree DEBUG    Sampled data shape: (16, 4)\n",
      "22-Sep-05 15:03:49 fatf         INFO     Seeding RNGs using the input parameter.\n",
      "22-Sep-05 15:03:49 fatf         INFO     Seeding RNGs with 42.\n"
     ]
    }
   ],
   "source": [
    "img_path_, top_pred, similarities, lime, limet = explain_image(\n",
    "    img_path, clf, random_seed=42, n_top_classes=3,\n",
    "    batch_size=50,                              # Processing\n",
    "    segmenter_type='slic',                      # Segmenter Type\n",
    "    n_segments=13,                              # Slic Segmenter\n",
    "    occlusion_colour='black',                   # Occluder\n",
    "    generate_complete_sample=True,              # Sampler\n",
    "    kernel_width=0.25)                          # Similarity"
   ]
  },
  {
   "cell_type": "code",
   "execution_count": 5,
   "metadata": {},
   "outputs": [],
   "source": [
    "assert img_path == img_path_, 'Expect the same image'\n",
    "assert np.array_equal(top_pred, [852, 207, 208]), 'Expect correct predictions'"
   ]
  },
  {
   "cell_type": "markdown",
   "metadata": {},
   "source": [
    "## Run Sample Processor"
   ]
  },
  {
   "cell_type": "code",
   "execution_count": 6,
   "metadata": {},
   "outputs": [
    {
     "name": "stderr",
     "output_type": "stream",
     "text": [
      "22-Sep-05 15:04:23 scripts.limetree DEBUG    Image: ./img/dog_ball.jpg\n",
      "22-Sep-05 15:04:23 scripts.limetree DEBUG    Image: ./img/dog_ball.jpg\n",
      "22-Sep-05 15:04:23 scripts.limetree DEBUG    Segmenter in use: slic\n",
      "22-Sep-05 15:04:23 scripts.limetree DEBUG    Segmenter in use: slic\n",
      "22-Sep-05 15:04:24 scripts.limetree DEBUG    Top n classes: 3\n",
      "22-Sep-05 15:04:24 scripts.limetree DEBUG    Top n classes: 3\n",
      "22-Sep-05 15:04:24 fatf         INFO     Seeding RNGs using the input parameter.\n",
      "22-Sep-05 15:04:24 fatf         INFO     Seeding RNGs with 42.\n",
      "22-Sep-05 15:04:24 scripts.limetree DEBUG    Segments number: 4\n",
      "22-Sep-05 15:04:24 scripts.limetree DEBUG    Segments number: 4\n",
      "22-Sep-05 15:04:24 scripts.limetree DEBUG    Sampled data shape: (16, 4)\n",
      "22-Sep-05 15:04:24 scripts.limetree DEBUG    Sampled data shape: (16, 4)\n",
      "22-Sep-05 15:04:26 fatf         INFO     Seeding RNGs using the input parameter.\n",
      "22-Sep-05 15:04:26 fatf         INFO     Seeding RNGs with 42.\n",
      "22-Sep-05 15:04:53 scripts.limetree DEBUG    Processed image: ./img/dog_ball.jpg\n",
      "22-Sep-05 15:04:53 scripts.limetree DEBUG    Processed image: ./img/dog_ball.jpg\n"
     ]
    }
   ],
   "source": [
    "sample_images = [img_path]\n",
    "collector = {}\n",
    "\n",
    "for img in sample_images:\n",
    "    img_path_, top_pred, similarities, lime, limet = explain_image(\n",
    "        img, clf, random_seed=42, n_top_classes=3,\n",
    "        batch_size=50,                              # Processing\n",
    "        segmenter_type='slic',                      # Segmenter Type\n",
    "        n_segments=13,                              # Slic Segmenter\n",
    "        occlusion_colour='black',                   # Occluder\n",
    "        generate_complete_sample=True,              # Sampler\n",
    "        kernel_width=0.25)                          # Similarity\n",
    "    logger.debug(f'Processed image: {img_path_}')\n",
    "    collector[img_path_] = (top_pred, similarities, lime, limet)"
   ]
  },
  {
   "cell_type": "code",
   "execution_count": 7,
   "metadata": {},
   "outputs": [],
   "source": [
    "with open('limet_sample.pickle', 'wb') as w_file:\n",
    "    pickle.dump(collector, w_file,\n",
    "                protocol=pickle.HIGHEST_PROTOCOL)\n"
   ]
  },
  {
   "cell_type": "markdown",
   "metadata": {},
   "source": [
    "## Analyse Data"
   ]
  },
  {
   "cell_type": "code",
   "execution_count": 8,
   "metadata": {},
   "outputs": [],
   "source": [
    "with open('limet_sample.pickle', 'rb') as r_file:\n",
    "    collector = pickle.load(r_file)"
   ]
  },
  {
   "cell_type": "code",
   "execution_count": 9,
   "metadata": {},
   "outputs": [
    {
     "name": "stdout",
     "output_type": "stream",
     "text": [
      "Number of processed images: 1\n"
     ]
    }
   ],
   "source": [
    "print(f'Number of processed images: {len(collector.keys())}')"
   ]
  },
  {
   "cell_type": "code",
   "execution_count": 10,
   "metadata": {},
   "outputs": [
    {
     "name": "stderr",
     "output_type": "stream",
     "text": [
      "22-Sep-05 15:04:56 scripts.limetree DEBUG    Reshaping for LIMEtree loss (got 1D).\n",
      "22-Sep-05 15:04:56 scripts.limetree DEBUG    Reshaping for LIMEtree loss (got 1D).\n",
      "22-Sep-05 15:04:56 scripts.limetree DEBUG    Reshaping for LIMEtree loss (got 1D).\n",
      "22-Sep-05 15:04:56 scripts.limetree DEBUG    Reshaping for LIMEtree loss (got 1D).\n",
      "22-Sep-05 15:04:56 scripts.limetree DEBUG    Reshaping for LIMEtree loss (got 1D).\n",
      "22-Sep-05 15:04:56 scripts.limetree DEBUG    Reshaping for LIMEtree loss (got 1D).\n",
      "22-Sep-05 15:04:56 scripts.limetree DEBUG    Reshaping for LIMEtree loss (got 1D).\n",
      "22-Sep-05 15:04:56 scripts.limetree DEBUG    Reshaping for LIMEtree loss (got 1D).\n",
      "22-Sep-05 15:04:56 scripts.limetree DEBUG    Reshaping for LIMEtree loss (got 1D).\n",
      "22-Sep-05 15:04:56 scripts.limetree DEBUG    Reshaping for LIMEtree loss (got 1D).\n",
      "22-Sep-05 15:04:56 scripts.limetree DEBUG    Reshaping for LIMEtree loss (got 1D).\n",
      "22-Sep-05 15:04:56 scripts.limetree DEBUG    Reshaping for LIMEtree loss (got 1D).\n",
      "22-Sep-05 15:04:56 scripts.limetree DEBUG    Reshaping for LIMEtree loss (got 1D).\n",
      "22-Sep-05 15:04:56 scripts.limetree DEBUG    Reshaping for LIMEtree loss (got 1D).\n",
      "22-Sep-05 15:04:56 scripts.limetree DEBUG    Reshaping for LIMEtree loss (got 1D).\n",
      "22-Sep-05 15:04:56 scripts.limetree DEBUG    Reshaping for LIMEtree loss (got 1D).\n",
      "22-Sep-05 15:04:56 scripts.limetree DEBUG    Reshaping for LIMEtree loss (got 1D).\n",
      "22-Sep-05 15:04:56 scripts.limetree DEBUG    Reshaping for LIMEtree loss (got 1D).\n",
      "22-Sep-05 15:04:56 scripts.limetree DEBUG    Reshaping for LIMEtree loss (got 1D).\n",
      "22-Sep-05 15:04:56 scripts.limetree DEBUG    Reshaping for LIMEtree loss (got 1D).\n",
      "22-Sep-05 15:04:56 scripts.limetree DEBUG    Reshaping for LIMEtree loss (got 1D).\n",
      "22-Sep-05 15:04:56 scripts.limetree DEBUG    Reshaping for LIMEtree loss (got 1D).\n",
      "22-Sep-05 15:04:56 scripts.limetree DEBUG    Reshaping for LIMEtree loss (got 1D).\n",
      "22-Sep-05 15:04:56 scripts.limetree DEBUG    Reshaping for LIMEtree loss (got 1D).\n",
      "22-Sep-05 15:04:56 scripts.limetree DEBUG    Reshaping for LIMEtree loss (got 1D).\n",
      "22-Sep-05 15:04:56 scripts.limetree DEBUG    Reshaping for LIMEtree loss (got 1D).\n",
      "22-Sep-05 15:04:56 scripts.limetree DEBUG    Reshaping for LIMEtree loss (got 1D).\n",
      "22-Sep-05 15:04:56 scripts.limetree DEBUG    Reshaping for LIMEtree loss (got 1D).\n",
      "22-Sep-05 15:04:56 scripts.limetree DEBUG    Reshaping for LIMEtree loss (got 1D).\n",
      "22-Sep-05 15:04:56 scripts.limetree DEBUG    Reshaping for LIMEtree loss (got 1D).\n",
      "22-Sep-05 15:04:56 scripts.limetree DEBUG    Reshaping for LIMEtree loss (got 1D).\n",
      "22-Sep-05 15:04:56 scripts.limetree DEBUG    Reshaping for LIMEtree loss (got 1D).\n",
      "22-Sep-05 15:04:56 scripts.limetree DEBUG    Reshaping for LIMEtree loss (got 1D).\n",
      "22-Sep-05 15:04:56 scripts.limetree DEBUG    Reshaping for LIMEtree loss (got 1D).\n",
      "22-Sep-05 15:04:56 scripts.limetree DEBUG    Reshaping for LIMEtree loss (got 1D).\n",
      "22-Sep-05 15:04:56 scripts.limetree DEBUG    Reshaping for LIMEtree loss (got 1D).\n",
      "22-Sep-05 15:04:56 scripts.limetree DEBUG    Reshaping for LIMEtree loss (got 1D).\n",
      "22-Sep-05 15:04:56 scripts.limetree DEBUG    Reshaping for LIMEtree loss (got 1D).\n",
      "22-Sep-05 15:04:56 scripts.limetree DEBUG    Reshaping for LIMEtree loss (got 1D).\n",
      "22-Sep-05 15:04:56 scripts.limetree DEBUG    Reshaping for LIMEtree loss (got 1D).\n",
      "22-Sep-05 15:04:56 scripts.limetree DEBUG    Reshaping for LIMEtree loss (got 1D).\n",
      "22-Sep-05 15:04:56 scripts.limetree DEBUG    Reshaping for LIMEtree loss (got 1D).\n",
      "22-Sep-05 15:04:56 scripts.limetree DEBUG    Reshaping for LIMEtree loss (got 1D).\n",
      "22-Sep-05 15:04:56 scripts.limetree DEBUG    Reshaping for LIMEtree loss (got 1D).\n",
      "22-Sep-05 15:04:56 scripts.limetree DEBUG    Reshaping for LIMEtree loss (got 1D).\n",
      "22-Sep-05 15:04:56 scripts.limetree DEBUG    Reshaping for LIMEtree loss (got 1D).\n",
      "22-Sep-05 15:04:56 scripts.limetree DEBUG    Reshaping for LIMEtree loss (got 1D).\n",
      "22-Sep-05 15:04:56 scripts.limetree DEBUG    Reshaping for LIMEtree loss (got 1D).\n"
     ]
    }
   ],
   "source": [
    "top_classes, lime_scores, limet_scores = process_loss(collector)"
   ]
  },
  {
   "cell_type": "code",
   "execution_count": 11,
   "metadata": {},
   "outputs": [],
   "source": [
    "lime_scores_summary = summarise_loss_lime(lime_scores, top_classes)"
   ]
  },
  {
   "cell_type": "code",
   "execution_count": 12,
   "metadata": {},
   "outputs": [],
   "source": [
    "limet_scores_summary = summarise_loss_limet(limet_scores, top_classes)"
   ]
  },
  {
   "cell_type": "code",
   "execution_count": 13,
   "metadata": {},
   "outputs": [
    {
     "data": {
      "image/png": "[encoded data removed]",
      "text/plain": [
       "<Figure size 800x600 with 1 Axes>"
      ]
     },
     "metadata": {},
     "output_type": "display_data"
    }
   ],
   "source": [
    "# NBVAL_IGNORE_OUTPUT\n",
    "plot_loss_summary(lime_scores_summary, limet_scores_summary,\n",
    "                  2, use_limet_loss=False,\n",
    "                  use_weighted=True, use_random=False)"
   ]
  },
  {
   "cell_type": "code",
   "execution_count": null,
   "metadata": {},
   "outputs": [],
   "source": []
  }
 ],
 "metadata": {
  "kernelspec": {
   "display_name": "Python 3 (ipykernel)",
   "language": "python",
   "name": "python3"
  },
  "language_info": {
   "codemirror_mode": {
    "name": "ipython",
    "version": 3
   },
   "file_extension": ".py",
   "mimetype": "text/x-python",
   "name": "python",
   "nbconvert_exporter": "python",
   "pygments_lexer": "ipython3",
   "version": "3.7.13"
  },
  "orig_nbformat": 4,
  "vscode": {
   "interpreter": {
    "hash": "dea763222d8a20cd683c0cf45d1135b92d86a63603b6ff60cb34fa4cc3cb6719"
   }
  }
 },
 "nbformat": 4,
 "nbformat_minor": 2
}
