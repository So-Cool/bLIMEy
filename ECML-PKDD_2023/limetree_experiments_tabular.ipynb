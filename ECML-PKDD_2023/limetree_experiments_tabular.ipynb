{
 "cells": [
  {
   "cell_type": "markdown",
   "metadata": {},
   "source": [
    "# LIMEtree Tabular Experiments"
   ]
  },
  {
   "cell_type": "code",
   "execution_count": 1,
   "metadata": {},
   "outputs": [
    {
     "name": "stderr",
     "output_type": "stream",
     "text": [
      "24-Apr-28 22:31:45 fatf.utils.array.tools INFO     Using numpy's numpy.lib.recfunctions.structured_to_unstructured as fatf.utils.array.tools.structured_to_unstructured and fatf.utils.array.tools.structured_to_unstructured_row.\n"
     ]
    }
   ],
   "source": [
    "import joblib\n",
    "import logging\n",
    "import pickle\n",
    "\n",
    "import numpy as np\n",
    "\n",
    "import sklearn.datasets as skl_data\n",
    "import sklearn.linear_model as skl_lm\n",
    "import sklearn.metrics as skl_metrics\n",
    "import sklearn.model_selection as skl_tts\n",
    "\n",
    "from scripts.limetree import (\n",
    "    logger,\n",
    "    explain_tabular,\n",
    "    process_loss, summarise_loss_lime, summarise_loss_limet,\n",
    "    plot_loss_summary, tabulate_loss_summary)"
   ]
  },
  {
   "cell_type": "code",
   "execution_count": 2,
   "metadata": {},
   "outputs": [],
   "source": [
    "! mkdir -p _figures\n",
    "\n",
    "# logging.basicConfig(level=logging.DEBUG)\n",
    "logger.setLevel(logging.DEBUG)\n",
    "\n",
    "%matplotlib inline"
   ]
  },
  {
   "cell_type": "markdown",
   "metadata": {},
   "source": [
    "# Model and Data"
   ]
  },
  {
   "cell_type": "code",
   "execution_count": 3,
   "metadata": {},
   "outputs": [],
   "source": [
    "# *wine recognition* data set\n",
    "data_wine = skl_data.load_wine(return_X_y=True)[0]\n",
    "labels_wine = skl_data.load_wine(return_X_y=True)[1]\n",
    "\n",
    "wine_split = skl_tts.train_test_split(\n",
    "    data_wine, labels_wine, train_size=0.8, random_state=42, stratify=labels_wine)\n",
    "data_wine_train, data_wine_test, labels_wine_train, labels_wine_test = wine_split\n",
    "\n",
    "clf_wine_name = 'clf_wine_lr-exp.joblib'\n",
    "results_wine_name = 'limet_wine_sample.pickle'\n",
    "\n",
    "X, Y = data_wine, labels_wine\n",
    "X_train, Y_train = data_wine_train, labels_wine_train\n",
    "X_test, Y_test = data_wine_test, labels_wine_test\n",
    "\n",
    "clf_name = clf_wine_name\n",
    "\n",
    "kernel_width = 25"
   ]
  },
  {
   "cell_type": "code",
   "execution_count": 4,
   "metadata": {},
   "outputs": [
    {
     "name": "stdout",
     "output_type": "stream",
     "text": [
      "Model's performance (balanced accuracy): 0.933\n"
     ]
    },
    {
     "data": {
      "text/plain": [
       "['clf_wine_lr-exp.joblib']"
      ]
     },
     "execution_count": 4,
     "metadata": {},
     "output_type": "execute_result"
    }
   ],
   "source": [
    "clf_wine_lr = skl_lm.LogisticRegression(\n",
    "    random_state=42,\n",
    "    solver='lbfgs', multi_class='multinomial', max_iter=10000)\n",
    "clf = clf_wine_lr\n",
    "\n",
    "clf.fit(X_train, Y_train)\n",
    "\n",
    "Y_test_predicted = clf.predict(X_test)\n",
    "_bacc = skl_metrics.balanced_accuracy_score(Y_test, Y_test_predicted)\n",
    "print(f\"Model's performance (balanced accuracy): {_bacc:0.3f}\")\n",
    "\n",
    "joblib.dump(clf, clf_name)"
   ]
  },
  {
   "cell_type": "markdown",
   "metadata": {},
   "source": [
    "## Test Processing Instances"
   ]
  },
  {
   "cell_type": "code",
   "execution_count": 5,
   "metadata": {},
   "outputs": [
    {
     "name": "stderr",
     "output_type": "stream",
     "text": [
      "24-Apr-28 22:31:49 scripts.limetree DEBUG    Instance: 0\n",
      "24-Apr-28 22:31:49 scripts.limetree DEBUG    Instance: 0\n",
      "24-Apr-28 22:31:49 scripts.limetree DEBUG    Top n classes: 3\n",
      "24-Apr-28 22:31:49 scripts.limetree DEBUG    Top n classes: 3\n",
      "24-Apr-28 22:31:49 fatf         INFO     Seeding RNGs using the input parameter.\n",
      "24-Apr-28 22:31:49 fatf         INFO     Seeding RNGs with 42.\n",
      "24-Apr-28 22:31:49 scripts.limetree DEBUG    Sampled data shape: (10000, 13)\n",
      "24-Apr-28 22:31:49 scripts.limetree DEBUG    Sampled data shape: (10000, 13)\n",
      "24-Apr-28 22:31:49 scripts.limetree DEBUG    Sampled data predicted class ratio: {0: 6142, 1: 2198, 2: 1660}\n",
      "24-Apr-28 22:31:49 scripts.limetree DEBUG    Sampled data predicted class ratio: {0: 6142, 1: 2198, 2: 1660}\n",
      "24-Apr-28 22:31:49 scripts.limetree DEBUG    33.50% of similarities is 0.\n",
      "24-Apr-28 22:31:49 scripts.limetree DEBUG    33.50% of similarities is 0.\n"
     ]
    }
   ],
   "source": [
    "id_x = 0\n",
    "instance_id, top_pred, similarities, lime, limet = explain_tabular(\n",
    "    X_test[id_x, :], id_x, clf, X, Y,\n",
    "    random_seed=42, n_top_classes=3,\n",
    "    samples_number=10000, batch_size=100,  # Processing\n",
    "    kernel_width=kernel_width)             # Similarity"
   ]
  },
  {
   "cell_type": "code",
   "execution_count": 6,
   "metadata": {},
   "outputs": [],
   "source": [
    "assert instance_id == id_x, 'Expected the dame ID'\n",
    "assert np.array_equal(top_pred, [0, 2, 1]), 'Expect correct predictions'"
   ]
  },
  {
   "cell_type": "markdown",
   "metadata": {},
   "source": [
    "## Run Sample Processor"
   ]
  },
  {
   "cell_type": "code",
   "execution_count": 7,
   "metadata": {},
   "outputs": [
    {
     "name": "stderr",
     "output_type": "stream",
     "text": [
      "24-Apr-28 22:31:52 scripts.limetree DEBUG    Instance: 0\n",
      "24-Apr-28 22:31:52 scripts.limetree DEBUG    Instance: 0\n",
      "24-Apr-28 22:31:52 scripts.limetree DEBUG    Top n classes: 3\n",
      "24-Apr-28 22:31:52 scripts.limetree DEBUG    Top n classes: 3\n",
      "24-Apr-28 22:31:52 fatf         INFO     Seeding RNGs using the input parameter.\n",
      "24-Apr-28 22:31:52 fatf         INFO     Seeding RNGs with 42.\n",
      "24-Apr-28 22:31:52 scripts.limetree DEBUG    Sampled data shape: (10000, 13)\n",
      "24-Apr-28 22:31:52 scripts.limetree DEBUG    Sampled data shape: (10000, 13)\n",
      "24-Apr-28 22:31:52 scripts.limetree DEBUG    Sampled data predicted class ratio: {0: 6142, 1: 2198, 2: 1660}\n",
      "24-Apr-28 22:31:52 scripts.limetree DEBUG    Sampled data predicted class ratio: {0: 6142, 1: 2198, 2: 1660}\n",
      "24-Apr-28 22:31:52 scripts.limetree DEBUG    33.50% of similarities is 0.\n",
      "24-Apr-28 22:31:52 scripts.limetree DEBUG    33.50% of similarities is 0.\n",
      "24-Apr-28 22:31:55 scripts.limetree DEBUG    Progress:  20% [1 / 5]\n",
      "24-Apr-28 22:31:55 scripts.limetree DEBUG    Progress:  20% [1 / 5]\n",
      "24-Apr-28 22:31:55 scripts.limetree DEBUG    Instance: 1\n",
      "24-Apr-28 22:31:55 scripts.limetree DEBUG    Instance: 1\n",
      "24-Apr-28 22:31:55 scripts.limetree DEBUG    Top n classes: 3\n",
      "24-Apr-28 22:31:55 scripts.limetree DEBUG    Top n classes: 3\n",
      "24-Apr-28 22:31:55 fatf         INFO     Seeding RNGs using the input parameter.\n",
      "24-Apr-28 22:31:55 fatf         INFO     Seeding RNGs with 42.\n",
      "24-Apr-28 22:31:55 scripts.limetree DEBUG    Sampled data shape: (10000, 13)\n",
      "24-Apr-28 22:31:55 scripts.limetree DEBUG    Sampled data shape: (10000, 13)\n",
      "24-Apr-28 22:31:55 scripts.limetree DEBUG    Sampled data predicted class ratio: {0: 3107, 1: 4292, 2: 2601}\n",
      "24-Apr-28 22:31:55 scripts.limetree DEBUG    Sampled data predicted class ratio: {0: 3107, 1: 4292, 2: 2601}\n",
      "24-Apr-28 22:31:55 scripts.limetree DEBUG    1.25% of similarities is 0.\n",
      "24-Apr-28 22:31:55 scripts.limetree DEBUG    1.25% of similarities is 0.\n",
      "24-Apr-28 22:32:00 scripts.limetree DEBUG    Progress:  40% [2 / 5]\n",
      "24-Apr-28 22:32:00 scripts.limetree DEBUG    Progress:  40% [2 / 5]\n",
      "24-Apr-28 22:32:00 scripts.limetree DEBUG    Instance: 2\n",
      "24-Apr-28 22:32:00 scripts.limetree DEBUG    Instance: 2\n",
      "24-Apr-28 22:32:00 scripts.limetree DEBUG    Top n classes: 3\n",
      "24-Apr-28 22:32:00 scripts.limetree DEBUG    Top n classes: 3\n",
      "24-Apr-28 22:32:00 fatf         INFO     Seeding RNGs using the input parameter.\n",
      "24-Apr-28 22:32:00 fatf         INFO     Seeding RNGs with 42.\n",
      "24-Apr-28 22:32:00 scripts.limetree DEBUG    Sampled data shape: (10000, 13)\n",
      "24-Apr-28 22:32:00 scripts.limetree DEBUG    Sampled data shape: (10000, 13)\n",
      "24-Apr-28 22:32:00 scripts.limetree DEBUG    Sampled data predicted class ratio: {0: 4124, 1: 3682, 2: 2194}\n",
      "24-Apr-28 22:32:00 scripts.limetree DEBUG    Sampled data predicted class ratio: {0: 4124, 1: 3682, 2: 2194}\n",
      "24-Apr-28 22:32:00 scripts.limetree DEBUG    0.04% of similarities is 0.\n",
      "24-Apr-28 22:32:00 scripts.limetree DEBUG    0.04% of similarities is 0.\n",
      "24-Apr-28 22:32:04 scripts.limetree DEBUG    Progress:  60% [3 / 5]\n",
      "24-Apr-28 22:32:04 scripts.limetree DEBUG    Progress:  60% [3 / 5]\n",
      "24-Apr-28 22:32:04 scripts.limetree DEBUG    Instance: 3\n",
      "24-Apr-28 22:32:04 scripts.limetree DEBUG    Instance: 3\n",
      "24-Apr-28 22:32:04 scripts.limetree DEBUG    Top n classes: 3\n",
      "24-Apr-28 22:32:04 scripts.limetree DEBUG    Top n classes: 3\n",
      "24-Apr-28 22:32:04 fatf         INFO     Seeding RNGs using the input parameter.\n",
      "24-Apr-28 22:32:04 fatf         INFO     Seeding RNGs with 42.\n",
      "24-Apr-28 22:32:04 scripts.limetree DEBUG    Sampled data shape: (10000, 13)\n",
      "24-Apr-28 22:32:04 scripts.limetree DEBUG    Sampled data shape: (10000, 13)\n",
      "24-Apr-28 22:32:04 scripts.limetree DEBUG    Sampled data predicted class ratio: {0: 3053, 1: 4691, 2: 2256}\n",
      "24-Apr-28 22:32:04 scripts.limetree DEBUG    Sampled data predicted class ratio: {0: 3053, 1: 4691, 2: 2256}\n",
      "24-Apr-28 22:32:04 scripts.limetree DEBUG    4.43% of similarities is 0.\n",
      "24-Apr-28 22:32:04 scripts.limetree DEBUG    4.43% of similarities is 0.\n",
      "24-Apr-28 22:32:08 scripts.limetree DEBUG    Progress:  80% [4 / 5]\n",
      "24-Apr-28 22:32:08 scripts.limetree DEBUG    Progress:  80% [4 / 5]\n",
      "24-Apr-28 22:32:08 scripts.limetree DEBUG    Instance: 4\n",
      "24-Apr-28 22:32:08 scripts.limetree DEBUG    Instance: 4\n",
      "24-Apr-28 22:32:08 scripts.limetree DEBUG    Top n classes: 3\n",
      "24-Apr-28 22:32:08 scripts.limetree DEBUG    Top n classes: 3\n",
      "24-Apr-28 22:32:08 fatf         INFO     Seeding RNGs using the input parameter.\n",
      "24-Apr-28 22:32:08 fatf         INFO     Seeding RNGs with 42.\n",
      "24-Apr-28 22:32:08 scripts.limetree DEBUG    Sampled data shape: (10000, 13)\n",
      "24-Apr-28 22:32:08 scripts.limetree DEBUG    Sampled data shape: (10000, 13)\n",
      "24-Apr-28 22:32:08 scripts.limetree DEBUG    Sampled data predicted class ratio: {0: 3116, 1: 4513, 2: 2371}\n",
      "24-Apr-28 22:32:08 scripts.limetree DEBUG    Sampled data predicted class ratio: {0: 3116, 1: 4513, 2: 2371}\n",
      "24-Apr-28 22:32:08 scripts.limetree DEBUG    1.42% of similarities is 0.\n",
      "24-Apr-28 22:32:08 scripts.limetree DEBUG    1.42% of similarities is 0.\n",
      "24-Apr-28 22:32:13 scripts.limetree DEBUG    Progress: 100% [5 / 5]\n",
      "24-Apr-28 22:32:13 scripts.limetree DEBUG    Progress: 100% [5 / 5]\n"
     ]
    }
   ],
   "source": [
    "id_xs = 5\n",
    "collector = {}\n",
    "for i, (x, _y) in enumerate(zip(X_test[:id_xs, :], Y_test[:id_xs])):\n",
    "    instance_id, top_pred, similarities, lime, limet = explain_tabular(\n",
    "        x, i, clf, X, Y,\n",
    "        random_seed=42, n_top_classes=3,\n",
    "        samples_number=10000, batch_size=100,  # Processing\n",
    "        kernel_width=kernel_width)             # Similarity\n",
    "    assert instance_id == i\n",
    "    collector[instance_id] = (top_pred, similarities, lime, limet)\n",
    "    logger.debug(f'Progress: {100*(i+1)/id_xs:3.0f}% [{i+1} / {id_xs}]')"
   ]
  },
  {
   "cell_type": "code",
   "execution_count": 8,
   "metadata": {},
   "outputs": [],
   "source": [
    "with open(results_wine_name, 'wb') as w_file:\n",
    "    pickle.dump(collector, w_file,\n",
    "                protocol=pickle.HIGHEST_PROTOCOL)"
   ]
  },
  {
   "cell_type": "markdown",
   "metadata": {},
   "source": [
    "## Analyse Data"
   ]
  },
  {
   "cell_type": "code",
   "execution_count": 9,
   "metadata": {},
   "outputs": [],
   "source": [
    "with open(results_wine_name, 'rb') as r_file:\n",
    "    collector = pickle.load(r_file)"
   ]
  },
  {
   "cell_type": "code",
   "execution_count": 10,
   "metadata": {},
   "outputs": [],
   "source": [
    "if isinstance(collector, list):\n",
    "    collector = {i:j for i, j in enumerate(collector)}"
   ]
  },
  {
   "cell_type": "code",
   "execution_count": 11,
   "metadata": {},
   "outputs": [
    {
     "name": "stdout",
     "output_type": "stream",
     "text": [
      "Number of processed instances: 5\n"
     ]
    }
   ],
   "source": [
    "print(f'Number of processed instances: {len(collector.keys())}')"
   ]
  },
  {
   "cell_type": "code",
   "execution_count": 12,
   "metadata": {},
   "outputs": [
    {
     "name": "stderr",
     "output_type": "stream",
     "text": [
      "24-Apr-28 22:32:15 scripts.limetree DEBUG    Number of processed data points: 5\n",
      "24-Apr-28 22:32:15 scripts.limetree DEBUG    Number of processed data points: 5\n"
     ]
    }
   ],
   "source": [
    "top_classes, lime_scores, limet_scores = process_loss(\n",
    "    collector, ignoreR=True)"
   ]
  },
  {
   "cell_type": "code",
   "execution_count": 13,
   "metadata": {},
   "outputs": [],
   "source": [
    "lime_scores_summary = summarise_loss_lime(\n",
    "    lime_scores, top_classes, ignoreR=True)"
   ]
  },
  {
   "cell_type": "code",
   "execution_count": 14,
   "metadata": {},
   "outputs": [],
   "source": [
    "limet_scores_summary = summarise_loss_limet(\n",
    "    limet_scores, top_classes, ignoreR=True)"
   ]
  },
  {
   "cell_type": "code",
   "execution_count": 15,
   "metadata": {},
   "outputs": [
    {
     "name": "stdout",
     "output_type": "stream",
     "text": [
      "Saving to: _figures/loss-cls1-lime_weighted_Xrandom.pdf\n"
     ]
    },
    {
     "data": {
      "image/png": "[encoded data removed]",
      "text/plain": [
       "<Figure size 800x400 with 1 Axes>"
      ]
     },
     "metadata": {},
     "output_type": "display_data"
    }
   ],
   "source": [
    "# NBVAL_IGNORE_OUTPUT\n",
    "plot_loss_summary(lime_scores_summary, limet_scores_summary,\n",
    "                  1, use_limet_loss=False,\n",
    "                  use_weighted=True, use_random=False, ignoreR=True)"
   ]
  },
  {
   "cell_type": "code",
   "execution_count": 16,
   "metadata": {},
   "outputs": [
    {
     "name": "stdout",
     "output_type": "stream",
     "text": [
      "\\(0.04\\pm0.02\\)\n",
      "\\(0.02\\pm0.02\\)\n",
      "\\(0.56\\pm0.28\\)\n"
     ]
    },
    {
     "data": {
      "text/plain": [
       "{'lime': (0.039168929869771066, 0.022495472847746775),\n",
       " 'limet': (0.024877933849679103, 0.017236638973231567),\n",
       " 'limetf': (0.5574661433962612, 0.28305504361168904)}"
      ]
     },
     "execution_count": 16,
     "metadata": {},
     "output_type": "execute_result"
    }
   ],
   "source": [
    "tabulate_loss_summary(lime_scores_summary, limet_scores_summary, 1,\n",
    "                      0.33, scale_factor=1, latex=True,\n",
    "                      use_limet_loss=False, use_weighted=True, use_random=False,\n",
    "                      ignoreR=True)"
   ]
  },
  {
   "cell_type": "code",
   "execution_count": null,
   "metadata": {},
   "outputs": [],
   "source": []
  }
 ],
 "metadata": {
  "kernelspec": {
   "display_name": "Python 3 (ipykernel)",
   "language": "python",
   "name": "python3"
  },
  "language_info": {
   "codemirror_mode": {
    "name": "ipython",
    "version": 3
   },
   "file_extension": ".py",
   "mimetype": "text/x-python",
   "name": "python",
   "nbconvert_exporter": "python",
   "pygments_lexer": "ipython3",
   "version": "3.7.11"
  },
  "vscode": {
   "interpreter": {
    "hash": "dea763222d8a20cd683c0cf45d1135b92d86a63603b6ff60cb34fa4cc3cb6719"
   }
  }
 },
 "nbformat": 4,
 "nbformat_minor": 2
}
